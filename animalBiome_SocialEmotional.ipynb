{
 "cells": [
  {
   "cell_type": "markdown",
   "metadata": {},
   "source": [
    "These scripts are written for AnimalBiome (animalbiome.com).\n",
    "\n",
    "This notebook was used to generate comparisons between individual pets and a range of animals of similar age in the data set. Data is from customer surveys about the animal's lifestyle and social and emotional attributes, and is metadata that accompanies the sequencing-based micribiome assessments AnimalBiome provides. "
   ]
  },
  {
   "cell_type": "code",
   "execution_count": 1,
   "metadata": {
    "collapsed": false
   },
   "outputs": [],
   "source": [
    "#import libraries\n",
    "import pandas as pd\n",
    "import numpy as np\n",
    "from matplotlib import pyplot as plt\n",
    "import seaborn as sns\n",
    "%matplotlib inline"
   ]
  },
  {
   "cell_type": "code",
   "execution_count": 18,
   "metadata": {
    "collapsed": false
   },
   "outputs": [
    {
     "data": {
      "text/html": [
       "<div>\n",
       "<table border=\"1\" class=\"dataframe\">\n",
       "  <thead>\n",
       "    <tr style=\"text-align: right;\">\n",
       "      <th></th>\n",
       "      <th>#SampleID</th>\n",
       "      <th>Name</th>\n",
       "      <th>Sex</th>\n",
       "      <th>City</th>\n",
       "      <th>State</th>\n",
       "      <th>Country</th>\n",
       "      <th>Age</th>\n",
       "      <th>SocializationStatus</th>\n",
       "      <th>FecalScore</th>\n",
       "      <th>weight</th>\n",
       "      <th>...</th>\n",
       "      <th>Urinary tract disease</th>\n",
       "      <th>Ringworm</th>\n",
       "      <th>Anxiety</th>\n",
       "      <th>Depression</th>\n",
       "      <th>Stress</th>\n",
       "      <th>Sleeps</th>\n",
       "      <th>nuCatsInHouse</th>\n",
       "      <th>nuDogsInHouse</th>\n",
       "      <th>otherAnimalsInHouse</th>\n",
       "      <th>Notes</th>\n",
       "    </tr>\n",
       "  </thead>\n",
       "  <tbody>\n",
       "    <tr>\n",
       "      <th>0</th>\n",
       "      <td>1006</td>\n",
       "      <td>Starbuck</td>\n",
       "      <td>Male</td>\n",
       "      <td>San Mateo</td>\n",
       "      <td>CA</td>\n",
       "      <td>USA</td>\n",
       "      <td>2.0</td>\n",
       "      <td>House</td>\n",
       "      <td>4.0</td>\n",
       "      <td>12.0</td>\n",
       "      <td>...</td>\n",
       "      <td>0</td>\n",
       "      <td>0.0</td>\n",
       "      <td>0.0</td>\n",
       "      <td>0</td>\n",
       "      <td>0.0</td>\n",
       "      <td>Our bed or window perch</td>\n",
       "      <td>1</td>\n",
       "      <td>0.0</td>\n",
       "      <td>My husband, human</td>\n",
       "      <td>NaN</td>\n",
       "    </tr>\n",
       "    <tr>\n",
       "      <th>1</th>\n",
       "      <td>1007</td>\n",
       "      <td>Jack</td>\n",
       "      <td>Male</td>\n",
       "      <td>Austin</td>\n",
       "      <td>TX</td>\n",
       "      <td>USA</td>\n",
       "      <td>7.0</td>\n",
       "      <td>House</td>\n",
       "      <td>1.0</td>\n",
       "      <td>14.0</td>\n",
       "      <td>...</td>\n",
       "      <td>0</td>\n",
       "      <td>0.0</td>\n",
       "      <td>0.0</td>\n",
       "      <td>0</td>\n",
       "      <td>0.0</td>\n",
       "      <td>my bed</td>\n",
       "      <td>1</td>\n",
       "      <td>0.0</td>\n",
       "      <td>NaN</td>\n",
       "      <td>NaN</td>\n",
       "    </tr>\n",
       "    <tr>\n",
       "      <th>2</th>\n",
       "      <td>1010</td>\n",
       "      <td>Meowskevitz</td>\n",
       "      <td>Female</td>\n",
       "      <td>Brooklyn</td>\n",
       "      <td>NY</td>\n",
       "      <td>USA</td>\n",
       "      <td>11.0</td>\n",
       "      <td>House</td>\n",
       "      <td>3.0</td>\n",
       "      <td>NaN</td>\n",
       "      <td>...</td>\n",
       "      <td>NaN</td>\n",
       "      <td>NaN</td>\n",
       "      <td>1.0</td>\n",
       "      <td>NaN</td>\n",
       "      <td>NaN</td>\n",
       "      <td>NaN</td>\n",
       "      <td>1</td>\n",
       "      <td>0.0</td>\n",
       "      <td>NaN</td>\n",
       "      <td>NaN</td>\n",
       "    </tr>\n",
       "    <tr>\n",
       "      <th>3</th>\n",
       "      <td>1011</td>\n",
       "      <td>Mimi</td>\n",
       "      <td>Female</td>\n",
       "      <td>Brooklyn</td>\n",
       "      <td>NY</td>\n",
       "      <td>USA</td>\n",
       "      <td>6.0</td>\n",
       "      <td>House</td>\n",
       "      <td>3.0</td>\n",
       "      <td>NaN</td>\n",
       "      <td>...</td>\n",
       "      <td>0</td>\n",
       "      <td>0.0</td>\n",
       "      <td>0.0</td>\n",
       "      <td>0</td>\n",
       "      <td>0.0</td>\n",
       "      <td>in human bed</td>\n",
       "      <td>1</td>\n",
       "      <td>0.0</td>\n",
       "      <td>NaN</td>\n",
       "      <td>NaN</td>\n",
       "    </tr>\n",
       "    <tr>\n",
       "      <th>4</th>\n",
       "      <td>1014</td>\n",
       "      <td>NaN</td>\n",
       "      <td>Female</td>\n",
       "      <td>Oxford</td>\n",
       "      <td>MS</td>\n",
       "      <td>USA</td>\n",
       "      <td>8.0</td>\n",
       "      <td>House</td>\n",
       "      <td>3.0</td>\n",
       "      <td>11.0</td>\n",
       "      <td>...</td>\n",
       "      <td>0</td>\n",
       "      <td>0.0</td>\n",
       "      <td>0.0</td>\n",
       "      <td>0</td>\n",
       "      <td>0.0</td>\n",
       "      <td>Perch near the window or foot of bed</td>\n",
       "      <td>1</td>\n",
       "      <td>1.0</td>\n",
       "      <td>Dog, 1</td>\n",
       "      <td>NaN</td>\n",
       "    </tr>\n",
       "  </tbody>\n",
       "</table>\n",
       "<p>5 rows × 72 columns</p>\n",
       "</div>"
      ],
      "text/plain": [
       "  #SampleID         Name     Sex       City State Country   Age  \\\n",
       "0      1006     Starbuck    Male  San Mateo    CA     USA   2.0   \n",
       "1      1007         Jack    Male     Austin    TX     USA   7.0   \n",
       "2      1010  Meowskevitz  Female   Brooklyn    NY     USA  11.0   \n",
       "3      1011         Mimi  Female   Brooklyn    NY     USA   6.0   \n",
       "4      1014          NaN  Female     Oxford    MS     USA   8.0   \n",
       "\n",
       "  SocializationStatus  FecalScore  weight  ...    Urinary tract disease  \\\n",
       "0               House         4.0    12.0  ...                        0   \n",
       "1               House         1.0    14.0  ...                        0   \n",
       "2               House         3.0     NaN  ...                      NaN   \n",
       "3               House         3.0     NaN  ...                        0   \n",
       "4               House         3.0    11.0  ...                        0   \n",
       "\n",
       "   Ringworm  Anxiety Depression Stress                                Sleeps  \\\n",
       "0       0.0      0.0          0    0.0               Our bed or window perch   \n",
       "1       0.0      0.0          0    0.0                                my bed   \n",
       "2       NaN      1.0        NaN    NaN                                   NaN   \n",
       "3       0.0      0.0          0    0.0                          in human bed   \n",
       "4       0.0      0.0          0    0.0  Perch near the window or foot of bed   \n",
       "\n",
       "   nuCatsInHouse  nuDogsInHouse  otherAnimalsInHouse  Notes  \n",
       "0              1            0.0    My husband, human    NaN  \n",
       "1              1            0.0                  NaN    NaN  \n",
       "2              1            0.0                  NaN    NaN  \n",
       "3              1            0.0                  NaN    NaN  \n",
       "4              1            1.0               Dog, 1    NaN  \n",
       "\n",
       "[5 rows x 72 columns]"
      ]
     },
     "execution_count": 18,
     "metadata": {},
     "output_type": "execute_result"
    }
   ],
   "source": [
    "#import data, check it out\n",
    "df = pd.read_table('/Users/karigoodman/Dropbox/InsightHealthDataScience/animalBiome/KittyBiome_metadata_final_1216.txt')\n",
    "df2 = df.drop_duplicates(\"#SampleID\")\n",
    "df2.head()"
   ]
  },
  {
   "cell_type": "code",
   "execution_count": 5,
   "metadata": {
    "collapsed": false
   },
   "outputs": [],
   "source": [
    "#Selecting out the target cat\n",
    "targetData = df2[(df2['#SampleID'] == '1473')]\n",
    "#print targetData"
   ]
  },
  {
   "cell_type": "code",
   "execution_count": 6,
   "metadata": {
    "collapsed": false
   },
   "outputs": [
    {
     "name": "stdout",
     "output_type": "stream",
     "text": [
      "Age: 1\n",
      "Sex: 165    Male\n",
      "Name: Sex, dtype: object\n",
      "Socialization status: 165    House\n",
      "Name: SocializationStatus, dtype: object\n",
      "Breed: 165    DSH\n",
      "Name: Breed, dtype: object\n",
      "Active: 165    Shelter\n",
      "Name: Source, dtype: object\n"
     ]
    }
   ],
   "source": [
    "#Defining the target cat's attributes for running a query to select the \n",
    "#group of similar cats for comparison\n",
    "\n",
    "#Target Cat social/emotional values\n",
    "ageTarget = targetData['Age']\n",
    "sexTarget = targetData['Sex']\n",
    "socializationTarget = targetData['SocializationStatus']\n",
    "breedTarget = targetData['Breed']\n",
    "sourceTarget = targetData['Source']\n",
    "\n",
    "print ('Age: %d' % ageTarget) \n",
    "print ('Sex: %s' % sexTarget) \n",
    "print ('Socialization status: %s' % socializationTarget) \n",
    "print ('Breed: %s' % breedTarget) \n",
    "print ('Active: %s' % sourceTarget) "
   ]
  },
  {
   "cell_type": "code",
   "execution_count": 7,
   "metadata": {
    "collapsed": false
   },
   "outputs": [
    {
     "name": "stdout",
     "output_type": "stream",
     "text": [
      "How you rated your cat for various social/emotional factors, on a scale of 1-10\n",
      "Outgoing: 10.000000\n",
      "Response to attention: 10.000000\n",
      "Social with animals: 10.000000\n",
      "Smart: 5.000000\n",
      "Active: 10.000000\n",
      "Moods: 5.000000\n",
      "Tolerates restraint: 5.000000\n"
     ]
    }
   ],
   "source": [
    "#Target Cat social/emotional values (fed into plot as axvline)\n",
    "outgoingTarget = targetData['Outgoing']\n",
    "attentionTarget = targetData['Response2Attention']\n",
    "socialTarget = targetData['SocialwithAnimals']\n",
    "smartTarget = targetData['Smart']\n",
    "activeTarget = targetData['Active']\n",
    "moodsTarget = targetData['Moods']\n",
    "toleranceTarget = targetData['ToleratesRestraint']\n",
    "\n",
    "print ('How you rated your cat for various social/emotional factors, on a scale of 1-10') \n",
    "print ('Outgoing: %f' % outgoingTarget) \n",
    "print ('Response to attention: %f' % attentionTarget) \n",
    "print ('Social with animals: %f' % socialTarget) \n",
    "print ('Smart: %f' % smartTarget) \n",
    "print ('Active: %f' % activeTarget) \n",
    "print ('Moods: %f' % moodsTarget) \n",
    "print ('Tolerates restraint: %f' % toleranceTarget)"
   ]
  },
  {
   "cell_type": "code",
   "execution_count": 8,
   "metadata": {
    "collapsed": false
   },
   "outputs": [
    {
     "name": "stdout",
     "output_type": "stream",
     "text": [
      "There are this many similar cats in the dataset: 173\n"
     ]
    },
    {
     "data": {
      "text/html": [
       "<div>\n",
       "<table border=\"1\" class=\"dataframe\">\n",
       "  <thead>\n",
       "    <tr style=\"text-align: right;\">\n",
       "      <th></th>\n",
       "      <th>#SampleID</th>\n",
       "      <th>Name</th>\n",
       "      <th>Sex</th>\n",
       "      <th>City</th>\n",
       "      <th>State</th>\n",
       "      <th>Country</th>\n",
       "      <th>Age</th>\n",
       "      <th>SocializationStatus</th>\n",
       "      <th>FecalScore</th>\n",
       "      <th>weight</th>\n",
       "      <th>...</th>\n",
       "      <th>Urinary tract disease</th>\n",
       "      <th>Ringworm</th>\n",
       "      <th>Anxiety</th>\n",
       "      <th>Depression</th>\n",
       "      <th>Stress</th>\n",
       "      <th>Sleeps</th>\n",
       "      <th>nuCatsInHouse</th>\n",
       "      <th>nuDogsInHouse</th>\n",
       "      <th>otherAnimalsInHouse</th>\n",
       "      <th>Notes</th>\n",
       "    </tr>\n",
       "  </thead>\n",
       "  <tbody>\n",
       "    <tr>\n",
       "      <th>0</th>\n",
       "      <td>1006</td>\n",
       "      <td>Starbuck</td>\n",
       "      <td>Male</td>\n",
       "      <td>San Mateo</td>\n",
       "      <td>CA</td>\n",
       "      <td>USA</td>\n",
       "      <td>2.0</td>\n",
       "      <td>House</td>\n",
       "      <td>4.0</td>\n",
       "      <td>12.0</td>\n",
       "      <td>...</td>\n",
       "      <td>0</td>\n",
       "      <td>0.0</td>\n",
       "      <td>0.0</td>\n",
       "      <td>0</td>\n",
       "      <td>0.0</td>\n",
       "      <td>Our bed or window perch</td>\n",
       "      <td>1</td>\n",
       "      <td>0.0</td>\n",
       "      <td>My husband, human</td>\n",
       "      <td>NaN</td>\n",
       "    </tr>\n",
       "    <tr>\n",
       "      <th>1</th>\n",
       "      <td>1007</td>\n",
       "      <td>Jack</td>\n",
       "      <td>Male</td>\n",
       "      <td>Austin</td>\n",
       "      <td>TX</td>\n",
       "      <td>USA</td>\n",
       "      <td>7.0</td>\n",
       "      <td>House</td>\n",
       "      <td>1.0</td>\n",
       "      <td>14.0</td>\n",
       "      <td>...</td>\n",
       "      <td>0</td>\n",
       "      <td>0.0</td>\n",
       "      <td>0.0</td>\n",
       "      <td>0</td>\n",
       "      <td>0.0</td>\n",
       "      <td>my bed</td>\n",
       "      <td>1</td>\n",
       "      <td>0.0</td>\n",
       "      <td>NaN</td>\n",
       "      <td>NaN</td>\n",
       "    </tr>\n",
       "    <tr>\n",
       "      <th>2</th>\n",
       "      <td>1010</td>\n",
       "      <td>Meowskevitz</td>\n",
       "      <td>Female</td>\n",
       "      <td>Brooklyn</td>\n",
       "      <td>NY</td>\n",
       "      <td>USA</td>\n",
       "      <td>11.0</td>\n",
       "      <td>House</td>\n",
       "      <td>3.0</td>\n",
       "      <td>NaN</td>\n",
       "      <td>...</td>\n",
       "      <td>NaN</td>\n",
       "      <td>NaN</td>\n",
       "      <td>1.0</td>\n",
       "      <td>NaN</td>\n",
       "      <td>NaN</td>\n",
       "      <td>NaN</td>\n",
       "      <td>1</td>\n",
       "      <td>0.0</td>\n",
       "      <td>NaN</td>\n",
       "      <td>NaN</td>\n",
       "    </tr>\n",
       "    <tr>\n",
       "      <th>3</th>\n",
       "      <td>1011</td>\n",
       "      <td>Mimi</td>\n",
       "      <td>Female</td>\n",
       "      <td>Brooklyn</td>\n",
       "      <td>NY</td>\n",
       "      <td>USA</td>\n",
       "      <td>6.0</td>\n",
       "      <td>House</td>\n",
       "      <td>3.0</td>\n",
       "      <td>NaN</td>\n",
       "      <td>...</td>\n",
       "      <td>0</td>\n",
       "      <td>0.0</td>\n",
       "      <td>0.0</td>\n",
       "      <td>0</td>\n",
       "      <td>0.0</td>\n",
       "      <td>in human bed</td>\n",
       "      <td>1</td>\n",
       "      <td>0.0</td>\n",
       "      <td>NaN</td>\n",
       "      <td>NaN</td>\n",
       "    </tr>\n",
       "    <tr>\n",
       "      <th>4</th>\n",
       "      <td>1014</td>\n",
       "      <td>NaN</td>\n",
       "      <td>Female</td>\n",
       "      <td>Oxford</td>\n",
       "      <td>MS</td>\n",
       "      <td>USA</td>\n",
       "      <td>8.0</td>\n",
       "      <td>House</td>\n",
       "      <td>3.0</td>\n",
       "      <td>11.0</td>\n",
       "      <td>...</td>\n",
       "      <td>0</td>\n",
       "      <td>0.0</td>\n",
       "      <td>0.0</td>\n",
       "      <td>0</td>\n",
       "      <td>0.0</td>\n",
       "      <td>Perch near the window or foot of bed</td>\n",
       "      <td>1</td>\n",
       "      <td>1.0</td>\n",
       "      <td>Dog, 1</td>\n",
       "      <td>NaN</td>\n",
       "    </tr>\n",
       "  </tbody>\n",
       "</table>\n",
       "<p>5 rows × 72 columns</p>\n",
       "</div>"
      ],
      "text/plain": [
       "  #SampleID         Name     Sex       City State Country   Age  \\\n",
       "0      1006     Starbuck    Male  San Mateo    CA     USA   2.0   \n",
       "1      1007         Jack    Male     Austin    TX     USA   7.0   \n",
       "2      1010  Meowskevitz  Female   Brooklyn    NY     USA  11.0   \n",
       "3      1011         Mimi  Female   Brooklyn    NY     USA   6.0   \n",
       "4      1014          NaN  Female     Oxford    MS     USA   8.0   \n",
       "\n",
       "  SocializationStatus  FecalScore  weight  ...    Urinary tract disease  \\\n",
       "0               House         4.0    12.0  ...                        0   \n",
       "1               House         1.0    14.0  ...                        0   \n",
       "2               House         3.0     NaN  ...                      NaN   \n",
       "3               House         3.0     NaN  ...                        0   \n",
       "4               House         3.0    11.0  ...                        0   \n",
       "\n",
       "   Ringworm  Anxiety Depression Stress                                Sleeps  \\\n",
       "0       0.0      0.0          0    0.0               Our bed or window perch   \n",
       "1       0.0      0.0          0    0.0                                my bed   \n",
       "2       NaN      1.0        NaN    NaN                                   NaN   \n",
       "3       0.0      0.0          0    0.0                          in human bed   \n",
       "4       0.0      0.0          0    0.0  Perch near the window or foot of bed   \n",
       "\n",
       "   nuCatsInHouse  nuDogsInHouse  otherAnimalsInHouse  Notes  \n",
       "0              1            0.0    My husband, human    NaN  \n",
       "1              1            0.0                  NaN    NaN  \n",
       "2              1            0.0                  NaN    NaN  \n",
       "3              1            0.0                  NaN    NaN  \n",
       "4              1            1.0               Dog, 1    NaN  \n",
       "\n",
       "[5 rows x 72 columns]"
      ]
     },
     "execution_count": 8,
     "metadata": {},
     "output_type": "execute_result"
    }
   ],
   "source": [
    "#finding a group of similar cats to targetCat\n",
    "#here will be a unique query for each cat, depending on their metadata\n",
    "simCats =  df2[ (df2['Age'] >= 1) & (df2['Age'] < 20) & (df2['SocializationStatus'] == 'House')]\n",
    "#(50  < df['heart rate']) \n",
    "numberCats = len(simCats)\n",
    "print ('There are this many similar cats in the dataset: %s' % numberCats) \n",
    "simCats.head()"
   ]
  },
  {
   "cell_type": "code",
   "execution_count": 9,
   "metadata": {
    "collapsed": false
   },
   "outputs": [
    {
     "name": "stdout",
     "output_type": "stream",
     "text": [
      "7.22289156627\n",
      "166\n"
     ]
    }
   ],
   "source": [
    "#Outgoing\n",
    "#simCats.Outgoing.unique()\n",
    "outgoing_data = simCats[np.isfinite(simCats['Outgoing'])]\n",
    "outgoing = outgoing_data['Outgoing']\n",
    "outgoing_all = sum(outgoing)\n",
    "print outgoing_all/len(outgoing)\n",
    "print len(outgoing)"
   ]
  },
  {
   "cell_type": "code",
   "execution_count": 10,
   "metadata": {
    "collapsed": false
   },
   "outputs": [
    {
     "name": "stdout",
     "output_type": "stream",
     "text": [
      "7.36526946108\n",
      "167\n"
     ]
    }
   ],
   "source": [
    "#Response to attention\n",
    "attention_data = simCats[np.isfinite(simCats['Response2Attention'])]\n",
    "attention = attention_data['Response2Attention']\n",
    "attention_all = sum(attention)\n",
    "print attention_all/len(attention)\n",
    "print len(attention)"
   ]
  },
  {
   "cell_type": "code",
   "execution_count": 11,
   "metadata": {
    "collapsed": false
   },
   "outputs": [
    {
     "name": "stdout",
     "output_type": "stream",
     "text": [
      "4.75757575758\n",
      "165\n"
     ]
    }
   ],
   "source": [
    "#Social with animals\n",
    "social_data = simCats[np.isfinite(simCats['SocialwithAnimals'])]\n",
    "social = social_data['SocialwithAnimals']\n",
    "social_all = sum(social)\n",
    "print social_all/len(social)\n",
    "print len(social)"
   ]
  },
  {
   "cell_type": "code",
   "execution_count": 12,
   "metadata": {
    "collapsed": false
   },
   "outputs": [
    {
     "name": "stdout",
     "output_type": "stream",
     "text": [
      "6.7125748503\n",
      "167\n"
     ]
    }
   ],
   "source": [
    "#Smart\n",
    "smart_data = simCats[np.isfinite(simCats['Smart'])]\n",
    "smart = smart_data['Smart']\n",
    "smart_all = sum(smart)\n",
    "print smart_all/len(smart)\n",
    "print len(smart)"
   ]
  },
  {
   "cell_type": "code",
   "execution_count": 13,
   "metadata": {
    "collapsed": false
   },
   "outputs": [
    {
     "name": "stdout",
     "output_type": "stream",
     "text": [
      "5.10240963855\n",
      "166\n"
     ]
    }
   ],
   "source": [
    "#Active\n",
    "active_data = simCats[np.isfinite(simCats['Active'])]\n",
    "active = active_data['Active']\n",
    "active_all = sum(active)\n",
    "print active_all/len(active)\n",
    "print len(active)"
   ]
  },
  {
   "cell_type": "code",
   "execution_count": 14,
   "metadata": {
    "collapsed": false
   },
   "outputs": [
    {
     "name": "stdout",
     "output_type": "stream",
     "text": [
      "8.07317073171\n",
      "164\n"
     ]
    }
   ],
   "source": [
    "#Moods\n",
    "moods_data = simCats[np.isfinite(simCats['Moods'])]\n",
    "moods = moods_data['Moods']\n",
    "moods_all = sum(moods)\n",
    "print moods_all/len(moods)\n",
    "print len(moods)"
   ]
  },
  {
   "cell_type": "code",
   "execution_count": 15,
   "metadata": {
    "collapsed": false
   },
   "outputs": [
    {
     "name": "stdout",
     "output_type": "stream",
     "text": [
      "5.13173652695\n",
      "167\n"
     ]
    }
   ],
   "source": [
    "#Tolerates Restraint\n",
    "tolerance_data = simCats[np.isfinite(simCats['ToleratesRestraint'])]\n",
    "tolerance = tolerance_data['ToleratesRestraint']\n",
    "tolerance_all = sum(tolerance)\n",
    "print tolerance_all/len(tolerance)\n",
    "print len(tolerance)"
   ]
  },
  {
   "cell_type": "code",
   "execution_count": 16,
   "metadata": {
    "collapsed": false
   },
   "outputs": [
    {
     "name": "stdout",
     "output_type": "stream",
     "text": [
      "5\n"
     ]
    }
   ],
   "source": [
    "print int(smartTarget)"
   ]
  },
  {
   "cell_type": "code",
   "execution_count": 19,
   "metadata": {
    "collapsed": false
   },
   "outputs": [
    {
     "data": {
      "text/plain": [
       "<matplotlib.figure.Figure at 0x117756910>"
      ]
     },
     "metadata": {},
     "output_type": "display_data"
    },
    {
     "data": {
      "image/png": "[encoded data removed]",
      "text/plain": [
       "<matplotlib.figure.Figure at 0x11778b390>"
      ]
     },
     "metadata": {},
     "output_type": "display_data"
    }
   ],
   "source": [
    "#Create a figure showing how the target animal compares to other animals in the \n",
    "#data set. \n",
    "\n",
    "#Create figure\n",
    "fig = plt.figure()\n",
    "fig.set_size_inches(12, 9)\n",
    "sns.set(font='serif')\n",
    "fig, ((ax1, ax2, ax3), (ax4, ax5, ax6)) = plt.subplots(nrows=2, ncols=3)\n",
    "\n",
    "#Outgoing\n",
    "ax1.hist(outgoing, color = 'g', bins = 11)\n",
    "ax1.set_xlabel(\"Shy (1) - Outgoing (10)\")\n",
    "ax1.axvline(int(outgoingTarget), color='b', linestyle='solid', linewidth=5)\n",
    "\n",
    "#Response to attention\n",
    "ax2.hist(attention, color='g', bins=10)\n",
    "ax2.set_xlabel(\"Response to attention\")\n",
    "ax2.axvline(int(attentionTarget), color='b', linestyle='solid', linewidth=5)\n",
    "\n",
    "#Intelligence\n",
    "ax3.hist(smart, color='g', bins=10)\n",
    "ax3.set_xlabel(\"Intelligence\")\n",
    "ax3.axvline(int(smartTarget), color='b', linestyle='solid', linewidth=5)\n",
    "\n",
    "#Social\n",
    "#ax4.axis('off')\n",
    "ax4.hist(social, color = 'g', bins = 10)\n",
    "ax4.set_xlabel(\"Social\")\n",
    "ax4.axvline(int(socialTarget), color='b', linestyle='solid', linewidth=5)\n",
    "\n",
    "#Active\n",
    "ax5.hist(active, color='g', bins=10)\n",
    "ax5.set_xlabel(\"Active\")\n",
    "ax5.axvline(int(activeTarget), color='b', linestyle='solid', linewidth=5)\n",
    "\n",
    "#Moods\n",
    "#ax6.axis('off')\n",
    "ax6.hist(moods, color='g', bins=8)\n",
    "ax6.set_xlabel(\"Moods\")\n",
    "ax6.axvline(int(moodsTarget), color='b', linestyle='solid', linewidth=5)\n",
    "\n",
    "#Adjust spacing and titles, save\n",
    "fig.subplots_adjust(left=None, bottom=None, right=None, top=None, wspace=0.2, hspace=0.3)\n",
    "fig.text(0.07, 0.5, 'Number of Cats', va='center', rotation='vertical', fontsize=12)\n",
    "fig.suptitle('Social/emotional attributes of cats in the data set compared with Kiji-o', fontsize=15)\n",
    "fig.savefig('1473_social_emotional.png', bbox_inches='tight')"
   ]
  }
 ],
 "metadata": {
  "anaconda-cloud": {},
  "kernelspec": {
   "display_name": "Python [default]",
   "language": "python",
   "name": "python2"
  },
  "language_info": {
   "codemirror_mode": {
    "name": "ipython",
    "version": 2
   },
   "file_extension": ".py",
   "mimetype": "text/x-python",
   "name": "python",
   "nbconvert_exporter": "python",
   "pygments_lexer": "ipython2",
   "version": "2.7.12"
  }
 },
 "nbformat": 4,
 "nbformat_minor": 0
}
